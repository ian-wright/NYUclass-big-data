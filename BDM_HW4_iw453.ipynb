{
 "cells": [
  {
   "cell_type": "markdown",
   "metadata": {},
   "source": [
    "# Homework 4 - MapReduce\n",
    "\n",
    "### DUE: 03/02/2017 before class at 10:30am\n",
    "\n",
    "In this homework, we are practicing the MapReduce programming paradigm. \n",
    "\n",
    "You are required to turn in this notebook as BDM\\_HW4\\_**NetId**.ipynb. You will be asked to complete each task using the accompanied *mapreduce* package (as **mapreduce.py**) using one or more MapReduce \"jobs\". For each such job (with mr.run()), you are expected to supply a mapper and a reducer as needed. Below are sample usage of the package:\n",
    "\n",
    "```python\n",
    "    # Run on input1 using your mapper1 and reducer1 function\n",
    "    output = list(mr.run(input1, mapper1, reducer1))\n",
    "\n",
    "    # Run on input2 using only your mapper2, no reduce phase\n",
    "    output = list(mr.run(input2, mapper2))\n",
    "    \n",
    "    # Run on input3 using 2 nested MapReduce jobs\n",
    "    output = list(mr.run(mr.run(input3, mapper3, reducer3), mapper4, reducer4))\n",
    "```\n",
    "    \n",
    "Please note that the output the mr.run() is always a **generator**. You have to cast it to a list if you'd like to view, index or print it out.\n",
    "\n",
    "**NOTE:** if you are using Python3 (though I still encourage you to use Python2 for this class), please download the file *mapreduce.py* from NYU Classes again."
   ]
  },
  {
   "cell_type": "markdown",
   "metadata": {},
   "source": [
    "## Task (10 points)\n",
    "\n",
    "There is only one task in this homework. You are asked to implement the Social Triangle example discussed in class. In particular, given the email dataset, please list all \"reciprocal\" relationships in the company. Recall that:\n",
    "\n",
    "If A emails B and B emails A, then A and B is *reciprocal*.\n",
    "\n",
    "If A emails B but B doesn’t email A, then A and B is *directed*.\n",
    "\n",
    "**Dataset:** We will use a subset of the open [Enron Email Dataset](https://www.cs.cmu.edu/~./enron/ \"Enron Email Dataset\"), which contains approximately 10,000 simplified email headers from the Enron Corporation. You can download this dataset from NYU Classes as **enron_mails_small.csv**. The file contains 3 columns *Date*, *From*, and *To*. Their description is as follows:\n",
    "\n",
    "|Column name|Description|\n",
    "|--|--|\n",
    "|Date |The date and time of the email, in the format YYYY-MM-DD hh-mm-ss, <br />e.g. \"1998-10-30 07:43:00\" |\n",
    "|From |The sender email address, <br />e.g. \"mark.taylor@enron.com\" |\n",
    "|To | A list of recipients' email addresses separated by semicolons ';', <br />e.g. \"jennifer.fraser@enron.com;jeffrey.hodge@enron.com\" |\n",
    "\n",
    "Note that, we only care about users employed by Enron, or only relationships having email addresses that end with *'@enron.com'*.\n",
    "\n",
    "The expected output is also provided below. For each reciprocal relationship, please output a tuple consisting of two strings. The first one is always **'reciprocal'**. And the second one is a string showing the name of the two person in the following format: **'Jane Doe : John Doe'**. The names should be presented in the lexical order, i.e. there will not be a 'John Doe : Jane Doe' since 'Jane' is ordered before 'John.\n",
    "\n",
    "Though the dataset only contains email addresses, not actual names, we're assuming that the email aliases were created based on their name. For example:\n",
    "\n",
    "|Email Address|Converted Name|\n",
    "|--|--|\n",
    "|mark.taylor@enron.com|Mark Taylor|\n",
    "|alan.aronowitz@enron.com|Alan Aronowitz|\n",
    "|marc.r.cutler@enron.com|Marc R Cutler|\n",
    "|hugh@enron.com|Hugh|\n",
    "\n",
    "Please fill the code block with a series of MapReduce jobs using your own mapper and reducer functions. Be sure to include the naming convention logic into one of your mappers and/or reducers."
   ]
  },
  {
   "cell_type": "code",
   "execution_count": 133,
   "metadata": {
    "collapsed": true
   },
   "outputs": [],
   "source": [
    "import csv\n",
    "import mapreduce as mr"
   ]
  },
  {
   "cell_type": "code",
   "execution_count": 134,
   "metadata": {
    "collapsed": true
   },
   "outputs": [],
   "source": [
    "def map_emails(one_email):\n",
    "    \n",
    "    # parse out sender and multiple receivers from each email\n",
    "    sender = one_email['From']\n",
    "    receivers = one_email['To'].split(';')\n",
    "    \n",
    "    # emit pairs of sender/receiver with indication of role\n",
    "    for receiver in receivers:\n",
    "        yield (sender, ('r', receiver))\n",
    "        yield (receiver, ('s', sender))"
   ]
  },
  {
   "cell_type": "code",
   "execution_count": 135,
   "metadata": {
    "collapsed": false
   },
   "outputs": [],
   "source": [
    "def reduce_emails(person_history):\n",
    "    \n",
    "    person, relationships = person_history\n",
    "    # consider only unique relationships\n",
    "    relationships = list(set(relationships))\n",
    "    \n",
    "    sent_to = []\n",
    "    received_from = []\n",
    "    \n",
    "    # separate relationships into lists of senders and receivers\n",
    "    for rel in relationships:\n",
    "        if rel[0] == 'r':\n",
    "            sent_to.append(rel[1])\n",
    "        else:\n",
    "            received_from.append(rel[1])\n",
    "    \n",
    "    # return individuals with associated lists of senders and receivers\n",
    "    return (person, (sent_to, received_from))"
   ]
  },
  {
   "cell_type": "code",
   "execution_count": 136,
   "metadata": {
    "collapsed": true
   },
   "outputs": [],
   "source": [
    "def map_reciprocals(relationship):\n",
    "    \n",
    "    person = relationship[0]\n",
    "    sent_to = relationship[1][0]\n",
    "    received_from = relationship[1][1]\n",
    "    \n",
    "    # compare lists of senders and receivers for matches (reciprocals)\n",
    "    recips = set(sent_to) & set(received_from)\n",
    "    \n",
    "    # emit sorted pairs of reciprocals\n",
    "    for recip in recips:\n",
    "        pair = sorted([person, recip])\n",
    "        yield (pair[0], pair[1])"
   ]
  },
  {
   "cell_type": "code",
   "execution_count": 137,
   "metadata": {
    "collapsed": true
   },
   "outputs": [],
   "source": [
    "def reduce_reciprocals(recip):\n",
    "    \n",
    "    p1, p2_list = recip\n",
    "    # just eliminate duplicates from the sorted pairs of reciprocals\n",
    "    return (p1, sorted(list(set(p2_list))))"
   ]
  },
  {
   "cell_type": "code",
   "execution_count": 140,
   "metadata": {
    "collapsed": true
   },
   "outputs": [],
   "source": [
    "def map_cleanup(recip):\n",
    "    \n",
    "    p1, p2_list = recip\n",
    "    if p1.endswith('@enron.com'):\n",
    "        for p2 in p2_list:\n",
    "            # eliminate cases where people are emailing themselves (narcissists)\n",
    "            if p2 != p1:\n",
    "                if p2.endswith('@enron.com'):\n",
    "                    # convert email addresses to capitalized names\n",
    "                    p1 = p1.replace('@enron.com', '').replace('.', ' ').title()\n",
    "                    p2 = p2.replace('@enron.com', '').replace('.', ' ').title()\n",
    "                    yield ('reciprocal', p1 + ' : ' + p2)"
   ]
  },
  {
   "cell_type": "code",
   "execution_count": 141,
   "metadata": {
    "collapsed": false
   },
   "outputs": [
    {
     "name": "stdout",
     "output_type": "stream",
     "text": [
      "35\n"
     ]
    },
    {
     "data": {
      "text/plain": [
       "[('reciprocal', 'Brenda Whitehead : Elizabeth Sager'),\n",
       " ('reciprocal', 'Carol Clair : Debra Perlingiere'),\n",
       " ('reciprocal', 'Carol Clair : Mark Taylor'),\n",
       " ('reciprocal', 'Carol Clair : Richard Sanders'),\n",
       " ('reciprocal', 'Carol Clair : Sara Shackleton'),\n",
       " ('reciprocal', 'Carol Clair : Tana Jones'),\n",
       " ('reciprocal', 'Debra Perlingiere : Kevin Ruscitti'),\n",
       " ('reciprocal', 'Drew Fossum : Susan Scott'),\n",
       " ('reciprocal', 'Elizabeth Sager : Janette Elbertson'),\n",
       " ('reciprocal', 'Elizabeth Sager : Mark Haedicke'),\n",
       " ('reciprocal', 'Elizabeth Sager : Mark Taylor'),\n",
       " ('reciprocal', 'Elizabeth Sager : Richard Sanders'),\n",
       " ('reciprocal', 'Eric Bass : Susan Scott'),\n",
       " ('reciprocal', 'Fletcher Sturm : Greg Whalley'),\n",
       " ('reciprocal', 'Fletcher Sturm : Sally Beck'),\n",
       " ('reciprocal', 'Gerald Nemec : Susan Scott'),\n",
       " ('reciprocal', 'Grant Masson : Vince Kaminski'),\n",
       " ('reciprocal', 'Greg Whalley : Richard Sanders'),\n",
       " ('reciprocal', 'Janette Elbertson : Mark Taylor'),\n",
       " ('reciprocal', 'Janette Elbertson : Richard Sanders'),\n",
       " ('reciprocal', 'Liz Taylor : Mark Haedicke'),\n",
       " ('reciprocal', 'Mark Haedicke : Mark Taylor'),\n",
       " ('reciprocal', 'Mark Haedicke : Michelle Cash'),\n",
       " ('reciprocal', 'Mark Haedicke : Richard Sanders'),\n",
       " ('reciprocal', 'Mark Haedicke : Twanda Sweet'),\n",
       " ('reciprocal', 'Mark Taylor : Sara Shackleton'),\n",
       " ('reciprocal', 'Mark Taylor : Tana Jones'),\n",
       " ('reciprocal', 'Michelle Cash : Twanda Sweet'),\n",
       " ('reciprocal', 'Pinnamaneni Krishnarao : Vince Kaminski'),\n",
       " ('reciprocal', 'Richard Sanders : Sara Shackleton'),\n",
       " ('reciprocal', 'Rosalee Fleming : Steven Kean'),\n",
       " ('reciprocal', 'Sara Shackleton : Tana Jones'),\n",
       " ('reciprocal', 'Shirley Crenshaw : Vince Kaminski'),\n",
       " ('reciprocal', 'Stinson Gibner : Vince Kaminski'),\n",
       " ('reciprocal', 'Vasant Shanbhogue : Vince Kaminski')]"
      ]
     },
     "execution_count": 141,
     "metadata": {},
     "output_type": "execute_result"
    }
   ],
   "source": [
    "# run a series of nested map/reduce calls\n",
    "with open('enron_mails_small.csv', 'r') as fi:\n",
    "    reader = csv.DictReader(fi)\n",
    "    output = list(mr.run(\n",
    "                        mr.run(\n",
    "                            mr.run(reader,\n",
    "                                   map_emails,\n",
    "                                   reduce_emails),\n",
    "                            map_reciprocals,\n",
    "                            reduce_reciprocals),\n",
    "                        map_cleanup))\n",
    "\n",
    "print(len(output))\n",
    "output"
   ]
  }
 ],
 "metadata": {
  "anaconda-cloud": {},
  "kernelspec": {
   "display_name": "Python [default]",
   "language": "python",
   "name": "python2"
  },
  "language_info": {
   "codemirror_mode": {
    "name": "ipython",
    "version": 2
   },
   "file_extension": ".py",
   "mimetype": "text/x-python",
   "name": "python",
   "nbconvert_exporter": "python",
   "pygments_lexer": "ipython2",
   "version": "2.7.12"
  }
 },
 "nbformat": 4,
 "nbformat_minor": 0
}
