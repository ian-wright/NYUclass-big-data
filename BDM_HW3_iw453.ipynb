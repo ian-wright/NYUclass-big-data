{
 "cells": [
  {
   "cell_type": "markdown",
   "metadata": {},
   "source": [
    "# Homework 3 - Python Higher Order Functions\n",
    "\n",
    "### DUE: 02/23/2017 before class at 10:30am\n",
    "\n",
    "In this homework, we will practice Python's higher order functions. Please note that you may only use higher order functions **without access to global variables**. Your expression should contain only **map()**, **filter()**, **sorted**, **reduce()** and your custom functions.\n",
    "\n",
    "You are required to turn in this notebook with all the parts filled in between <>. Your notebook must be named BDM\\_HW3\\_**NetId**.ipynb\n",
    "\n",
    "We will be using only the citibike data (i.e. *citibike.csv*) for this homework."
   ]
  },
  {
   "cell_type": "code",
   "execution_count": 5,
   "metadata": {
    "collapsed": true
   },
   "outputs": [],
   "source": [
    "import csv"
   ]
  },
  {
   "cell_type": "markdown",
   "metadata": {},
   "source": [
    "\n",
    "\n",
    "## Task 1 (2 points)\n",
    "\n",
    "We would like to write an HOF expression to count the total number of trip activities involved each station. For example, if a rider starts a trip at station A and ends at station B, each station A and B will receive +1 count for  the trip. The output must be tuples, each consisting of a station name and a total count. A portion of the expected output are included below.\n",
    "\n",
    "* **NOTE:** a suggested solution is given below to demonstrate the use of **sorted()**"
   ]
  },
  {
   "cell_type": "code",
   "execution_count": 103,
   "metadata": {
    "collapsed": false
   },
   "outputs": [
    {
     "data": {
      "text/plain": [
       "[('1 Ave & E 15 St', 795),\n",
       " ('1 Ave & E 44 St', 219),\n",
       " ('10 Ave & W 28 St', 422),\n",
       " ('11 Ave & W 27 St', 354),\n",
       " ('11 Ave & W 41 St', 461),\n",
       " ('11 Ave & W 59 St', 242),\n",
       " ('12 Ave & W 40 St', 217),\n",
       " ('2 Ave & E 31 St', 588),\n",
       " ('2 Ave & E 58 St', 125),\n",
       " ('3 Ave & Schermerhorn St', 34)]"
      ]
     },
     "execution_count": 103,
     "metadata": {},
     "output_type": "execute_result"
    }
   ],
   "source": [
    "def row_transform(row):\n",
    "    return [row['start_station_name'], row['end_station_name']]\n",
    "\n",
    "def station_counter(station_count, station_pair):\n",
    "    for station in station_pair:\n",
    "        station_count[station] = station_count.get(station, 0) + 1\n",
    "    return station_count\n",
    "\n",
    "with open('citibike.csv', 'r') as fi:\n",
    "    reader = csv.DictReader(fi)\n",
    "    output1 = sorted(\n",
    "        reduce(station_counter,\n",
    "               map(row_transform, reader), {}).items())\n",
    "\n",
    "output1[:10]"
   ]
  },
  {
   "cell_type": "markdown",
   "metadata": {},
   "source": [
    "\n",
    "## Task 2 (2 points)\n",
    "\n",
    "Next, we would like to do the same task as Task 1, but only keep the stations with more than 1000 trips involved. Please add your HOF expression below."
   ]
  },
  {
   "cell_type": "code",
   "execution_count": 104,
   "metadata": {
    "collapsed": false
   },
   "outputs": [
    {
     "data": {
      "text/plain": [
       "[('8 Ave & W 31 St', 1065),\n",
       " ('E 43 St & Vanderbilt Ave', 1003),\n",
       " ('Lafayette St & E 8 St', 1013),\n",
       " ('W 21 St & 6 Ave', 1057),\n",
       " ('W 41 St & 8 Ave', 1095)]"
      ]
     },
     "execution_count": 104,
     "metadata": {},
     "output_type": "execute_result"
    }
   ],
   "source": [
    "def row_transform(row):\n",
    "    return [row['start_station_name'], row['end_station_name']]\n",
    "\n",
    "def station_counter(station_count, station_pair):\n",
    "    for station in station_pair:\n",
    "        station_count[station] = station_count.get(station, 0) + 1\n",
    "    return station_count\n",
    "\n",
    "def is_g1000(c):\n",
    "    return c[1] > 1000\n",
    "\n",
    "with open('citibike.csv', 'r') as fi:\n",
    "    reader = csv.DictReader(fi)\n",
    "    output2 = sorted(\n",
    "        filter(is_g1000,\n",
    "               reduce(station_counter,\n",
    "                      map(row_transform, reader), {}).items()))\n",
    "\n",
    "output2[:10]"
   ]
  },
  {
   "cell_type": "markdown",
   "metadata": {},
   "source": [
    "\n",
    "## Task 3 (2 points)\n",
    "\n",
    "We would like to count the number of trips taken between pairs of stations. Trips taken from station A to station B or  from station B to station A are both counted towards the station pair A and B. *Please note that the station pair should be identified by station names, as a tuple, and **in lexical order**, i.e. **(A,B)** instead of ~~(B,A)~~ in this case*. The output must be tuples, each consisting of the station pair identification and a count. A portion of the expected output are included below. Please provide your HOF expression."
   ]
  },
  {
   "cell_type": "code",
   "execution_count": 105,
   "metadata": {
    "collapsed": false
   },
   "outputs": [
    {
     "data": {
      "text/plain": [
       "[(('1 Ave & E 15 St', '1 Ave & E 15 St'), 5),\n",
       " (('1 Ave & E 15 St', '1 Ave & E 44 St'), 6),\n",
       " (('1 Ave & E 15 St', '11 Ave & W 27 St'), 1),\n",
       " (('1 Ave & E 15 St', '2 Ave & E 31 St'), 9),\n",
       " (('1 Ave & E 15 St', '5 Ave & E 29 St'), 2),\n",
       " (('1 Ave & E 15 St', '6 Ave & Broome St'), 3),\n",
       " (('1 Ave & E 15 St', '6 Ave & Canal St'), 1),\n",
       " (('1 Ave & E 15 St', '8 Ave & W 31 St'), 5),\n",
       " (('1 Ave & E 15 St', '9 Ave & W 14 St'), 3),\n",
       " (('1 Ave & E 15 St', '9 Ave & W 16 St'), 3)]"
      ]
     },
     "execution_count": 105,
     "metadata": {},
     "output_type": "execute_result"
    }
   ],
   "source": [
    "def pair_generator(row):\n",
    "    return tuple(sorted((row['start_station_name'], row['end_station_name'])))\n",
    "\n",
    "def pair_counter(pair_count, pair):\n",
    "    pair_count[pair] = pair_count.get(pair, 0) + 1\n",
    "    return pair_count\n",
    "\n",
    "with open('citibike.csv', 'r') as fi:\n",
    "    reader = csv.DictReader(fi)\n",
    "    output3 = sorted(\n",
    "        reduce(pair_counter,\n",
    "               map(pair_generator, reader), {}).items(), key=lambda c: c[0])\n",
    "\n",
    "output3[:10]"
   ]
  },
  {
   "cell_type": "markdown",
   "metadata": {},
   "source": [
    "\n",
    "## Task 4 (2 points)\n",
    "\n",
    "Next, we would like to futher process the output from Task 3 to determine the station popularity among all of the station pairs that have 35 or more trips. The popularity of station is calculated by how many times it appears on the list. In other words, we would like to first filter the station pairs to only those that have 35 or more trips. Then, among these pairs, we count how many time each station appears and report back the counts. The output will be tuples, each consisting of the station name and a count. The expected output are included below. As illustrated, *W 41 St & 8 Ave* station is the most \"popular\" with 4 appearances. Please provide your HOF expression below. You can use the output3 from the previous task."
   ]
  },
  {
   "cell_type": "code",
   "execution_count": 106,
   "metadata": {
    "collapsed": false
   },
   "outputs": [
    {
     "data": {
      "text/plain": [
       "[('10 Ave & W 28 St', 1),\n",
       " ('11 Ave & W 27 St', 2),\n",
       " ('11 Ave & W 41 St', 1),\n",
       " ('8 Ave & W 31 St', 3),\n",
       " ('8 Ave & W 33 St', 1),\n",
       " ('9 Ave & W 22 St', 1),\n",
       " ('Adelphi St & Myrtle Ave', 1),\n",
       " ('DeKalb Ave & Hudson Ave', 1),\n",
       " ('E 10 St & Avenue A', 1),\n",
       " ('E 24 St & Park Ave S', 2),\n",
       " ('E 27 St & 1 Ave', 1),\n",
       " ('E 32 St & Park Ave', 1),\n",
       " ('E 33 St & 2 Ave', 2),\n",
       " ('E 43 St & Vanderbilt Ave', 2),\n",
       " ('E 47 St & Park Ave', 1),\n",
       " ('E 6 St & Avenue B', 1),\n",
       " ('E 7 St & Avenue A', 1),\n",
       " ('Lafayette St & E 8 St', 3),\n",
       " ('Pershing Square North', 1),\n",
       " ('Pershing Square South', 2),\n",
       " ('Vesey Pl & River Terrace', 1),\n",
       " ('W 17 St & 8 Ave', 1),\n",
       " ('W 20 St & 11 Ave', 2),\n",
       " ('W 21 St & 6 Ave', 1),\n",
       " ('W 26 St & 8 Ave', 1),\n",
       " ('W 31 St & 7 Ave', 2),\n",
       " ('W 33 St & 7 Ave', 2),\n",
       " ('W 41 St & 8 Ave', 4),\n",
       " ('West Thames St', 1)]"
      ]
     },
     "execution_count": 106,
     "metadata": {},
     "output_type": "execute_result"
    }
   ],
   "source": [
    "def popularity_counter(pop_count, pair):\n",
    "    for station in pair[0]:\n",
    "        pop_count[station] = pop_count.get(station, 0) + 1\n",
    "    return pop_count\n",
    "\n",
    "def is_g35(c):\n",
    "    return c[1] >= 35\n",
    "\n",
    "output4 = sorted(\n",
    "    reduce(popularity_counter,\n",
    "           filter(is_g35, output3), {}).items())\n",
    "output4"
   ]
  },
  {
   "cell_type": "markdown",
   "metadata": {},
   "source": [
    "\n",
    "## Task 5 (2 points)\n",
    "\n",
    "In this task, you are asked to compute the station with the most riders started from, per each gender of the *'Subscriber'* user. Meaning, what was the station name with the highest number of bike pickups for female riders, for male riders and for unknown riders.\n",
    "\n",
    "The output will be a list of tuples, each includes a gender label (as indicated below) and another tuple consisting of a station name, and the total number of trips started at that station for that gender. The expected output are included below. Please provide your HOF expression below.\n",
    "\n",
    "The label mapping for the gender column in citibike.csv is: (Zero=**Unknown**; 1=**Male**; 2=**Female**)"
   ]
  },
  {
   "cell_type": "code",
   "execution_count": 111,
   "metadata": {
    "collapsed": false
   },
   "outputs": [
    {
     "data": {
      "text/plain": [
       "[('Unknown', ('Fulton St & William St', 1)),\n",
       " ('Male', ('8 Ave & W 31 St', 488)),\n",
       " ('Female', ('W 21 St & 6 Ave', 107))]"
      ]
     },
     "execution_count": 111,
     "metadata": {},
     "output_type": "execute_result"
    }
   ],
   "source": [
    "def extractor(row):\n",
    "    return {'station': row['start_station_name'], 'gender': int(row['gender']), 'type': row['usertype']}\n",
    "        \n",
    "def gender_counter(gender_station_count, ride):\n",
    "    gender_station_count[ride['gender']][1][ride['station']] = \\\n",
    "    gender_station_count[ride['gender']][1].get(ride['station'], 0) + 1\n",
    "    return gender_station_count\n",
    "    \n",
    "def is_subscriber(ride):\n",
    "    return ride['type'] == 'Subscriber'\n",
    "\n",
    "def get_highest(counts):\n",
    "    highest = sorted(counts[1].items(), key = lambda item: item[1])[-1]\n",
    "    return (counts[0], highest)\n",
    "\n",
    "with open('citibike.csv', 'r') as fi:\n",
    "    reader = csv.DictReader(fi)\n",
    "    output5a = map(get_highest,\n",
    "                  reduce(gender_counter,\n",
    "                         filter(is_subscriber,\n",
    "                                map(extractor, reader)), (('Unknown', {}), ('Male', {}), ('Female', {}))))\n",
    "\n",
    "output5a"
   ]
  },
  {
   "cell_type": "markdown",
   "metadata": {},
   "source": [
    "## Note from Ian:\n",
    "I noticed the question asked for \"subscriber\" user types only - so the above solution applies that filter. If we don't want to filter for user type (and instead match the output shown on the problem set), we can skip that filter:"
   ]
  },
  {
   "cell_type": "code",
   "execution_count": 112,
   "metadata": {
    "collapsed": false
   },
   "outputs": [
    {
     "data": {
      "text/plain": [
       "[('Unknown', ('Central Park S & 6 Ave', 32)),\n",
       " ('Male', ('8 Ave & W 31 St', 488)),\n",
       " ('Female', ('W 21 St & 6 Ave', 107))]"
      ]
     },
     "execution_count": 112,
     "metadata": {},
     "output_type": "execute_result"
    }
   ],
   "source": [
    "with open('citibike.csv', 'r') as fi:\n",
    "    reader = csv.DictReader(fi)\n",
    "    output5b = map(get_highest,\n",
    "                  reduce(gender_counter,\n",
    "                        map(extractor, reader), (('Unknown', {}), ('Male', {}), ('Female', {}))))\n",
    "\n",
    "output5b"
   ]
  }
 ],
 "metadata": {
  "anaconda-cloud": {},
  "kernelspec": {
   "display_name": "Python [default]",
   "language": "python",
   "name": "python2"
  },
  "language_info": {
   "codemirror_mode": {
    "name": "ipython",
    "version": 2
   },
   "file_extension": ".py",
   "mimetype": "text/x-python",
   "name": "python",
   "nbconvert_exporter": "python",
   "pygments_lexer": "ipython2",
   "version": "2.7.12"
  }
 },
 "nbformat": 4,
 "nbformat_minor": 0
}
